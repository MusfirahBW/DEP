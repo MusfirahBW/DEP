{
 "cells": [
  {
   "cell_type": "markdown",
   "id": "370b2bd8",
   "metadata": {},
   "source": [
    "First things first, let's start by downloading and loading our data.\n",
    "I picked this dataset from kaggle, here's the link.\n",
    "https://www.kaggle.com/code/hnazari8665/ames-housing-dataset/input\n",
    "Then I just loaded the dataset."
   ]
  },
  {
   "cell_type": "code",
   "execution_count": 3,
   "id": "e7eda231",
   "metadata": {},
   "outputs": [
    {
     "name": "stdout",
     "output_type": "stream",
     "text": [
      "   Order        PID  MS SubClass MS Zoning  Lot Frontage  Lot Area Street  \\\n",
      "0      1  526301100           20        RL         141.0     31770   Pave   \n",
      "1      2  526350040           20        RH          80.0     11622   Pave   \n",
      "2      3  526351010           20        RL          81.0     14267   Pave   \n",
      "3      4  526353030           20        RL          93.0     11160   Pave   \n",
      "4      5  527105010           60        RL          74.0     13830   Pave   \n",
      "\n",
      "  Alley Lot Shape Land Contour  ... Pool Area Pool QC  Fence Misc Feature  \\\n",
      "0   NaN       IR1          Lvl  ...         0     NaN    NaN          NaN   \n",
      "1   NaN       Reg          Lvl  ...         0     NaN  MnPrv          NaN   \n",
      "2   NaN       IR1          Lvl  ...         0     NaN    NaN         Gar2   \n",
      "3   NaN       Reg          Lvl  ...         0     NaN    NaN          NaN   \n",
      "4   NaN       IR1          Lvl  ...         0     NaN  MnPrv          NaN   \n",
      "\n",
      "  Misc Val Mo Sold Yr Sold Sale Type  Sale Condition  SalePrice  \n",
      "0        0       5    2010       WD           Normal     215000  \n",
      "1        0       6    2010       WD           Normal     105000  \n",
      "2    12500       6    2010       WD           Normal     172000  \n",
      "3        0       4    2010       WD           Normal     244000  \n",
      "4        0       3    2010       WD           Normal     189900  \n",
      "\n",
      "[5 rows x 82 columns]\n",
      "<class 'pandas.core.frame.DataFrame'>\n",
      "RangeIndex: 2930 entries, 0 to 2929\n",
      "Data columns (total 82 columns):\n",
      " #   Column           Non-Null Count  Dtype  \n",
      "---  ------           --------------  -----  \n",
      " 0   Order            2930 non-null   int64  \n",
      " 1   PID              2930 non-null   int64  \n",
      " 2   MS SubClass      2930 non-null   int64  \n",
      " 3   MS Zoning        2930 non-null   object \n",
      " 4   Lot Frontage     2440 non-null   float64\n",
      " 5   Lot Area         2930 non-null   int64  \n",
      " 6   Street           2930 non-null   object \n",
      " 7   Alley            198 non-null    object \n",
      " 8   Lot Shape        2930 non-null   object \n",
      " 9   Land Contour     2930 non-null   object \n",
      " 10  Utilities        2930 non-null   object \n",
      " 11  Lot Config       2930 non-null   object \n",
      " 12  Land Slope       2930 non-null   object \n",
      " 13  Neighborhood     2930 non-null   object \n",
      " 14  Condition 1      2930 non-null   object \n",
      " 15  Condition 2      2930 non-null   object \n",
      " 16  Bldg Type        2930 non-null   object \n",
      " 17  House Style      2930 non-null   object \n",
      " 18  Overall Qual     2930 non-null   int64  \n",
      " 19  Overall Cond     2930 non-null   int64  \n",
      " 20  Year Built       2930 non-null   int64  \n",
      " 21  Year Remod/Add   2930 non-null   int64  \n",
      " 22  Roof Style       2930 non-null   object \n",
      " 23  Roof Matl        2930 non-null   object \n",
      " 24  Exterior 1st     2930 non-null   object \n",
      " 25  Exterior 2nd     2930 non-null   object \n",
      " 26  Mas Vnr Type     1155 non-null   object \n",
      " 27  Mas Vnr Area     2907 non-null   float64\n",
      " 28  Exter Qual       2930 non-null   object \n",
      " 29  Exter Cond       2930 non-null   object \n",
      " 30  Foundation       2930 non-null   object \n",
      " 31  Bsmt Qual        2850 non-null   object \n",
      " 32  Bsmt Cond        2850 non-null   object \n",
      " 33  Bsmt Exposure    2847 non-null   object \n",
      " 34  BsmtFin Type 1   2850 non-null   object \n",
      " 35  BsmtFin SF 1     2929 non-null   float64\n",
      " 36  BsmtFin Type 2   2849 non-null   object \n",
      " 37  BsmtFin SF 2     2929 non-null   float64\n",
      " 38  Bsmt Unf SF      2929 non-null   float64\n",
      " 39  Total Bsmt SF    2929 non-null   float64\n",
      " 40  Heating          2930 non-null   object \n",
      " 41  Heating QC       2930 non-null   object \n",
      " 42  Central Air      2930 non-null   object \n",
      " 43  Electrical       2929 non-null   object \n",
      " 44  1st Flr SF       2930 non-null   int64  \n",
      " 45  2nd Flr SF       2930 non-null   int64  \n",
      " 46  Low Qual Fin SF  2930 non-null   int64  \n",
      " 47  Gr Liv Area      2930 non-null   int64  \n",
      " 48  Bsmt Full Bath   2928 non-null   float64\n",
      " 49  Bsmt Half Bath   2928 non-null   float64\n",
      " 50  Full Bath        2930 non-null   int64  \n",
      " 51  Half Bath        2930 non-null   int64  \n",
      " 52  Bedroom AbvGr    2930 non-null   int64  \n",
      " 53  Kitchen AbvGr    2930 non-null   int64  \n",
      " 54  Kitchen Qual     2930 non-null   object \n",
      " 55  TotRms AbvGrd    2930 non-null   int64  \n",
      " 56  Functional       2930 non-null   object \n",
      " 57  Fireplaces       2930 non-null   int64  \n",
      " 58  Fireplace Qu     1508 non-null   object \n",
      " 59  Garage Type      2773 non-null   object \n",
      " 60  Garage Yr Blt    2771 non-null   float64\n",
      " 61  Garage Finish    2771 non-null   object \n",
      " 62  Garage Cars      2929 non-null   float64\n",
      " 63  Garage Area      2929 non-null   float64\n",
      " 64  Garage Qual      2771 non-null   object \n",
      " 65  Garage Cond      2771 non-null   object \n",
      " 66  Paved Drive      2930 non-null   object \n",
      " 67  Wood Deck SF     2930 non-null   int64  \n",
      " 68  Open Porch SF    2930 non-null   int64  \n",
      " 69  Enclosed Porch   2930 non-null   int64  \n",
      " 70  3Ssn Porch       2930 non-null   int64  \n",
      " 71  Screen Porch     2930 non-null   int64  \n",
      " 72  Pool Area        2930 non-null   int64  \n",
      " 73  Pool QC          13 non-null     object \n",
      " 74  Fence            572 non-null    object \n",
      " 75  Misc Feature     106 non-null    object \n",
      " 76  Misc Val         2930 non-null   int64  \n",
      " 77  Mo Sold          2930 non-null   int64  \n",
      " 78  Yr Sold          2930 non-null   int64  \n",
      " 79  Sale Type        2930 non-null   object \n",
      " 80  Sale Condition   2930 non-null   object \n",
      " 81  SalePrice        2930 non-null   int64  \n",
      "dtypes: float64(11), int64(28), object(43)\n",
      "memory usage: 1.8+ MB\n",
      "None\n",
      "            Order           PID  MS SubClass  Lot Frontage       Lot Area  \\\n",
      "count  2930.00000  2.930000e+03  2930.000000   2440.000000    2930.000000   \n",
      "mean   1465.50000  7.144645e+08    57.387372     69.224590   10147.921843   \n",
      "std     845.96247  1.887308e+08    42.638025     23.365335    7880.017759   \n",
      "min       1.00000  5.263011e+08    20.000000     21.000000    1300.000000   \n",
      "25%     733.25000  5.284770e+08    20.000000     58.000000    7440.250000   \n",
      "50%    1465.50000  5.354536e+08    50.000000     68.000000    9436.500000   \n",
      "75%    2197.75000  9.071811e+08    70.000000     80.000000   11555.250000   \n",
      "max    2930.00000  1.007100e+09   190.000000    313.000000  215245.000000   \n",
      "\n",
      "       Overall Qual  Overall Cond   Year Built  Year Remod/Add  Mas Vnr Area  \\\n",
      "count   2930.000000   2930.000000  2930.000000     2930.000000   2907.000000   \n",
      "mean       6.094881      5.563140  1971.356314     1984.266553    101.896801   \n",
      "std        1.411026      1.111537    30.245361       20.860286    179.112611   \n",
      "min        1.000000      1.000000  1872.000000     1950.000000      0.000000   \n",
      "25%        5.000000      5.000000  1954.000000     1965.000000      0.000000   \n",
      "50%        6.000000      5.000000  1973.000000     1993.000000      0.000000   \n",
      "75%        7.000000      6.000000  2001.000000     2004.000000    164.000000   \n",
      "max       10.000000      9.000000  2010.000000     2010.000000   1600.000000   \n",
      "\n",
      "       ...  Wood Deck SF  Open Porch SF  Enclosed Porch   3Ssn Porch  \\\n",
      "count  ...   2930.000000    2930.000000     2930.000000  2930.000000   \n",
      "mean   ...     93.751877      47.533447       23.011604     2.592491   \n",
      "std    ...    126.361562      67.483400       64.139059    25.141331   \n",
      "min    ...      0.000000       0.000000        0.000000     0.000000   \n",
      "25%    ...      0.000000       0.000000        0.000000     0.000000   \n",
      "50%    ...      0.000000      27.000000        0.000000     0.000000   \n",
      "75%    ...    168.000000      70.000000        0.000000     0.000000   \n",
      "max    ...   1424.000000     742.000000     1012.000000   508.000000   \n",
      "\n",
      "       Screen Porch    Pool Area      Misc Val      Mo Sold      Yr Sold  \\\n",
      "count   2930.000000  2930.000000   2930.000000  2930.000000  2930.000000   \n",
      "mean      16.002048     2.243345     50.635154     6.216041  2007.790444   \n",
      "std       56.087370    35.597181    566.344288     2.714492     1.316613   \n",
      "min        0.000000     0.000000      0.000000     1.000000  2006.000000   \n",
      "25%        0.000000     0.000000      0.000000     4.000000  2007.000000   \n",
      "50%        0.000000     0.000000      0.000000     6.000000  2008.000000   \n",
      "75%        0.000000     0.000000      0.000000     8.000000  2009.000000   \n",
      "max      576.000000   800.000000  17000.000000    12.000000  2010.000000   \n",
      "\n",
      "           SalePrice  \n",
      "count    2930.000000  \n",
      "mean   180796.060068  \n",
      "std     79886.692357  \n",
      "min     12789.000000  \n",
      "25%    129500.000000  \n",
      "50%    160000.000000  \n",
      "75%    213500.000000  \n",
      "max    755000.000000  \n",
      "\n",
      "[8 rows x 39 columns]\n",
      "Order               0\n",
      "PID                 0\n",
      "MS SubClass         0\n",
      "MS Zoning           0\n",
      "Lot Frontage      490\n",
      "                 ... \n",
      "Mo Sold             0\n",
      "Yr Sold             0\n",
      "Sale Type           0\n",
      "Sale Condition      0\n",
      "SalePrice           0\n",
      "Length: 82, dtype: int64\n"
     ]
    }
   ],
   "source": [
    "import pandas as pd\n",
    "\n",
    "file_path = 'AmesHousing.csv'\n",
    "data = pd.read_csv(file_path)\n",
    "\n",
    "# Display basic information about the dataset\n",
    "print(data.head())\n",
    "print(data.info())\n",
    "print(data.describe())\n",
    "print(data.isnull().sum())\n"
   ]
  },
  {
   "cell_type": "markdown",
   "id": "139c42ae",
   "metadata": {},
   "source": [
    "Data Cleaning:\n",
    "After a brief overview, you can see that the dataset has 2930 entries and 82 columns. There are some columns with missing values, particularly Lot Frontage, Alley, Mas Vnr Type, Mas Vnr Area, Bsmt Qual, Bsmt Cond, Bsmt Exposure, and others.\n",
    "\n",
    "So let's start by dropping some columns and adding the missing values"
   ]
  },
  {
   "cell_type": "code",
   "execution_count": 4,
   "id": "b61bc648",
   "metadata": {},
   "outputs": [],
   "source": [
    "# Drop columns with too many missing values\n",
    "data = data.drop(['Alley', 'Pool QC', 'Fence', 'Misc Feature'], axis=1)\n",
    "\n",
    "# Fill missing values for numerical columns with the median\n",
    "data['Lot Frontage'].fillna(data['Lot Frontage'].median(), inplace=True)\n",
    "data['Mas Vnr Area'].fillna(data['Mas Vnr Area'].median(), inplace=True)\n",
    "data['BsmtFin SF 1'].fillna(data['BsmtFin SF 1'].median(), inplace=True)\n",
    "data['BsmtFin SF 2'].fillna(data['BsmtFin SF 2'].median(), inplace=True)\n",
    "data['Bsmt Unf SF'].fillna(data['Bsmt Unf SF'].median(), inplace=True)\n",
    "data['Total Bsmt SF'].fillna(data['Total Bsmt SF'].median(), inplace=True)\n",
    "data['Bsmt Full Bath'].fillna(data['Bsmt Full Bath'].median(), inplace=True)\n",
    "data['Bsmt Half Bath'].fillna(data['Bsmt Half Bath'].median(), inplace=True)\n",
    "data['Garage Yr Blt'].fillna(data['Garage Yr Blt'].median(), inplace=True)\n",
    "data['Garage Cars'].fillna(data['Garage Cars'].median(), inplace=True)\n",
    "data['Garage Area'].fillna(data['Garage Area'].median(), inplace=True)\n",
    "\n",
    "# Fill missing values for categorical columns with the mode\n",
    "data['Mas Vnr Type'].fillna(data['Mas Vnr Type'].mode()[0], inplace=True)\n",
    "data['Bsmt Qual'].fillna(data['Bsmt Qual'].mode()[0], inplace=True)\n",
    "data['Bsmt Cond'].fillna(data['Bsmt Cond'].mode()[0], inplace=True)\n",
    "data['Bsmt Exposure'].fillna(data['Bsmt Exposure'].mode()[0], inplace=True)\n",
    "data['BsmtFin Type 1'].fillna(data['BsmtFin Type 1'].mode()[0], inplace=True)\n",
    "data['BsmtFin Type 2'].fillna(data['BsmtFin Type 2'].mode()[0], inplace=True)\n",
    "data['Garage Type'].fillna(data['Garage Type'].mode()[0], inplace=True)\n",
    "data['Garage Finish'].fillna(data['Garage Finish'].mode()[0], inplace=True)\n",
    "data['Garage Qual'].fillna(data['Garage Qual'].mode()[0], inplace=True)\n",
    "data['Garage Cond'].fillna(data['Garage Cond'].mode()[0], inplace=True)\n",
    "\n"
   ]
  },
  {
   "cell_type": "markdown",
   "id": "6bfd8b2c",
   "metadata": {},
   "source": [
    "Feature Engineering:\n",
    "This step is not necessary but to test it out we can simply convert categorical variables to dummy/indicator variables"
   ]
  },
  {
   "cell_type": "code",
   "execution_count": 5,
   "id": "71238d08",
   "metadata": {},
   "outputs": [],
   "source": [
    "data = pd.get_dummies(data, drop_first=True)\n"
   ]
  },
  {
   "cell_type": "markdown",
   "id": "ad9ae433",
   "metadata": {},
   "source": [
    "Now we are training a linear regression model."
   ]
  },
  {
   "cell_type": "code",
   "execution_count": 6,
   "id": "1f070cbd",
   "metadata": {
    "scrolled": true
   },
   "outputs": [
    {
     "data": {
      "text/html": [
       "<style>#sk-container-id-1 {color: black;}#sk-container-id-1 pre{padding: 0;}#sk-container-id-1 div.sk-toggleable {background-color: white;}#sk-container-id-1 label.sk-toggleable__label {cursor: pointer;display: block;width: 100%;margin-bottom: 0;padding: 0.3em;box-sizing: border-box;text-align: center;}#sk-container-id-1 label.sk-toggleable__label-arrow:before {content: \"▸\";float: left;margin-right: 0.25em;color: #696969;}#sk-container-id-1 label.sk-toggleable__label-arrow:hover:before {color: black;}#sk-container-id-1 div.sk-estimator:hover label.sk-toggleable__label-arrow:before {color: black;}#sk-container-id-1 div.sk-toggleable__content {max-height: 0;max-width: 0;overflow: hidden;text-align: left;background-color: #f0f8ff;}#sk-container-id-1 div.sk-toggleable__content pre {margin: 0.2em;color: black;border-radius: 0.25em;background-color: #f0f8ff;}#sk-container-id-1 input.sk-toggleable__control:checked~div.sk-toggleable__content {max-height: 200px;max-width: 100%;overflow: auto;}#sk-container-id-1 input.sk-toggleable__control:checked~label.sk-toggleable__label-arrow:before {content: \"▾\";}#sk-container-id-1 div.sk-estimator input.sk-toggleable__control:checked~label.sk-toggleable__label {background-color: #d4ebff;}#sk-container-id-1 div.sk-label input.sk-toggleable__control:checked~label.sk-toggleable__label {background-color: #d4ebff;}#sk-container-id-1 input.sk-hidden--visually {border: 0;clip: rect(1px 1px 1px 1px);clip: rect(1px, 1px, 1px, 1px);height: 1px;margin: -1px;overflow: hidden;padding: 0;position: absolute;width: 1px;}#sk-container-id-1 div.sk-estimator {font-family: monospace;background-color: #f0f8ff;border: 1px dotted black;border-radius: 0.25em;box-sizing: border-box;margin-bottom: 0.5em;}#sk-container-id-1 div.sk-estimator:hover {background-color: #d4ebff;}#sk-container-id-1 div.sk-parallel-item::after {content: \"\";width: 100%;border-bottom: 1px solid gray;flex-grow: 1;}#sk-container-id-1 div.sk-label:hover label.sk-toggleable__label {background-color: #d4ebff;}#sk-container-id-1 div.sk-serial::before {content: \"\";position: absolute;border-left: 1px solid gray;box-sizing: border-box;top: 0;bottom: 0;left: 50%;z-index: 0;}#sk-container-id-1 div.sk-serial {display: flex;flex-direction: column;align-items: center;background-color: white;padding-right: 0.2em;padding-left: 0.2em;position: relative;}#sk-container-id-1 div.sk-item {position: relative;z-index: 1;}#sk-container-id-1 div.sk-parallel {display: flex;align-items: stretch;justify-content: center;background-color: white;position: relative;}#sk-container-id-1 div.sk-item::before, #sk-container-id-1 div.sk-parallel-item::before {content: \"\";position: absolute;border-left: 1px solid gray;box-sizing: border-box;top: 0;bottom: 0;left: 50%;z-index: -1;}#sk-container-id-1 div.sk-parallel-item {display: flex;flex-direction: column;z-index: 1;position: relative;background-color: white;}#sk-container-id-1 div.sk-parallel-item:first-child::after {align-self: flex-end;width: 50%;}#sk-container-id-1 div.sk-parallel-item:last-child::after {align-self: flex-start;width: 50%;}#sk-container-id-1 div.sk-parallel-item:only-child::after {width: 0;}#sk-container-id-1 div.sk-dashed-wrapped {border: 1px dashed gray;margin: 0 0.4em 0.5em 0.4em;box-sizing: border-box;padding-bottom: 0.4em;background-color: white;}#sk-container-id-1 div.sk-label label {font-family: monospace;font-weight: bold;display: inline-block;line-height: 1.2em;}#sk-container-id-1 div.sk-label-container {text-align: center;}#sk-container-id-1 div.sk-container {/* jupyter's `normalize.less` sets `[hidden] { display: none; }` but bootstrap.min.css set `[hidden] { display: none !important; }` so we also need the `!important` here to be able to override the default hidden behavior on the sphinx rendered scikit-learn.org. See: https://github.com/scikit-learn/scikit-learn/issues/21755 */display: inline-block !important;position: relative;}#sk-container-id-1 div.sk-text-repr-fallback {display: none;}</style><div id=\"sk-container-id-1\" class=\"sk-top-container\"><div class=\"sk-text-repr-fallback\"><pre>LinearRegression()</pre><b>In a Jupyter environment, please rerun this cell to show the HTML representation or trust the notebook. <br />On GitHub, the HTML representation is unable to render, please try loading this page with nbviewer.org.</b></div><div class=\"sk-container\" hidden><div class=\"sk-item\"><div class=\"sk-estimator sk-toggleable\"><input class=\"sk-toggleable__control sk-hidden--visually\" id=\"sk-estimator-id-1\" type=\"checkbox\" checked><label for=\"sk-estimator-id-1\" class=\"sk-toggleable__label sk-toggleable__label-arrow\">LinearRegression</label><div class=\"sk-toggleable__content\"><pre>LinearRegression()</pre></div></div></div></div></div>"
      ],
      "text/plain": [
       "LinearRegression()"
      ]
     },
     "execution_count": 6,
     "metadata": {},
     "output_type": "execute_result"
    }
   ],
   "source": [
    "import numpy as np\n",
    "# Define features and target variable\n",
    "X = data.drop('SalePrice', axis=1)\n",
    "y = data['SalePrice']\n",
    "\n",
    "# Split the data into training and testing sets\n",
    "from sklearn.model_selection import train_test_split\n",
    "X_train, X_test, y_train, y_test = train_test_split(X, y, test_size=0.2, random_state=42)\n",
    "\n",
    "from sklearn.preprocessing import StandardScaler\n",
    "scaler = StandardScaler()\n",
    "X_train_scaled = scaler.fit_transform(X_train)\n",
    "X_test_scaled = scaler.transform(X_test)\n",
    "\n",
    "# Train a linear regression model\n",
    "from sklearn.linear_model import LinearRegression\n",
    "model = LinearRegression()\n",
    "model.fit(X_train_scaled, y_train)\n",
    "\n"
   ]
  },
  {
   "cell_type": "markdown",
   "id": "8bf805d1",
   "metadata": {},
   "source": [
    "Model Evaluation and fine tuning"
   ]
  },
  {
   "cell_type": "code",
   "execution_count": 7,
   "id": "68358e6b",
   "metadata": {},
   "outputs": [
    {
     "data": {
      "text/plain": [
       "(20851.98002184223, 0.9268711496324904, 2174349311901.0908, -589680906295430.1)"
      ]
     },
     "execution_count": 7,
     "metadata": {},
     "output_type": "execute_result"
    }
   ],
   "source": [
    "# Evaluate the model\n",
    "from sklearn.metrics import mean_squared_error, r2_score\n",
    "\n",
    "y_train_pred = model.predict(X_train_scaled)\n",
    "y_test_pred = model.predict(X_test_scaled)\n",
    "\n",
    "# Training set evaluation\n",
    "train_rmse = np.sqrt(mean_squared_error(y_train, y_train_pred))\n",
    "train_r2 = r2_score(y_train, y_train_pred)\n",
    "\n",
    "# Testing set evaluation\n",
    "test_rmse = np.sqrt(mean_squared_error(y_test, y_test_pred))\n",
    "test_r2 = r2_score(y_test, y_test_pred)\n",
    "\n",
    "train_rmse, train_r2, test_rmse, test_r2\n"
   ]
  },
  {
   "cell_type": "code",
   "execution_count": null,
   "id": "78eee0dd",
   "metadata": {},
   "outputs": [],
   "source": []
  }
 ],
 "metadata": {
  "kernelspec": {
   "display_name": "Python 3 (ipykernel)",
   "language": "python",
   "name": "python3"
  },
  "language_info": {
   "codemirror_mode": {
    "name": "ipython",
    "version": 3
   },
   "file_extension": ".py",
   "mimetype": "text/x-python",
   "name": "python",
   "nbconvert_exporter": "python",
   "pygments_lexer": "ipython3",
   "version": "3.11.4"
  }
 },
 "nbformat": 4,
 "nbformat_minor": 5
}
